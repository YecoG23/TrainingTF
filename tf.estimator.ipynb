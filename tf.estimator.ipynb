{
 "cells": [
  {
   "cell_type": "code",
   "execution_count": 9,
   "metadata": {
    "collapsed": true
   },
   "outputs": [],
   "source": [
    "import numpy as np\n",
    "import tensorflow as tf"
   ]
  },
  {
   "cell_type": "code",
   "execution_count": 10,
   "metadata": {
    "collapsed": true
   },
   "outputs": [],
   "source": [
    "feature_columns = [tf.feature_column.numeric_column(\"x\", shape=[1])]"
   ]
  },
  {
   "cell_type": "code",
   "execution_count": 11,
   "metadata": {
    "collapsed": false,
    "scrolled": true
   },
   "outputs": [
    {
     "name": "stdout",
     "output_type": "stream",
     "text": [
      "INFO:tensorflow:Using default config.\n",
      "WARNING:tensorflow:Using temporary folder as model directory: C:\\Users\\YECO\\AppData\\Local\\Temp\\tmpz0vomzwr\n",
      "INFO:tensorflow:Using config: {'_model_dir': 'C:\\\\Users\\\\YECO\\\\AppData\\\\Local\\\\Temp\\\\tmpz0vomzwr', '_tf_random_seed': None, '_save_summary_steps': 100, '_save_checkpoints_steps': None, '_save_checkpoints_secs': 600, '_session_config': None, '_keep_checkpoint_max': 5, '_keep_checkpoint_every_n_hours': 10000, '_log_step_count_steps': 100, '_service': None, '_cluster_spec': <tensorflow.python.training.server_lib.ClusterSpec object at 0x000000000699AE10>, '_task_type': 'worker', '_task_id': 0, '_master': '', '_is_chief': True, '_num_ps_replicas': 0, '_num_worker_replicas': 1}\n"
     ]
    }
   ],
   "source": [
    "estimator = tf.estimator.LinearRegressor(feature_columns=feature_columns)"
   ]
  },
  {
   "cell_type": "code",
   "execution_count": 12,
   "metadata": {
    "collapsed": true
   },
   "outputs": [],
   "source": [
    "x_train = np.array([1.,2.,3.,4.])\n",
    "y_train = np.array([0.,-1.,-2.,-3.])\n",
    "x_eval = np.array([2.,5.,8.,1.])\n",
    "y_eval = np.array([-1.01,-4.1,-7.,0.])\n",
    "input_fn = tf.estimator.inputs.numpy_input_fn( {\"x\":x_train}, y_train, batch_size=4, num_epochs=None, shuffle=True )\n",
    "train_input_fn = tf.estimator.inputs.numpy_input_fn( {\"x\":x_train}, y_train, batch_size=4, num_epochs=1000, shuffle=False)\n",
    "eval_input_fn = tf.estimator.inputs.numpy_input_fn( {\"x\":x_eval}, y_eval, batch_size=4, num_epochs=1000, shuffle=False)"
   ]
  },
  {
   "cell_type": "code",
   "execution_count": 13,
   "metadata": {
    "collapsed": false
   },
   "outputs": [
    {
     "name": "stdout",
     "output_type": "stream",
     "text": [
      "INFO:tensorflow:Create CheckpointSaverHook.\n",
      "INFO:tensorflow:Saving checkpoints for 1 into C:\\Users\\YECO\\AppData\\Local\\Temp\\tmpz0vomzwr\\model.ckpt.\n",
      "INFO:tensorflow:loss = 18.0, step = 1\n",
      "INFO:tensorflow:global_step/sec: 869.515\n",
      "INFO:tensorflow:loss = 0.402183, step = 101 (0.118 sec)\n",
      "INFO:tensorflow:global_step/sec: 961.483\n",
      "INFO:tensorflow:loss = 0.151187, step = 201 (0.103 sec)\n",
      "INFO:tensorflow:global_step/sec: 970.818\n",
      "INFO:tensorflow:loss = 0.0245641, step = 301 (0.104 sec)\n",
      "INFO:tensorflow:global_step/sec: 952.327\n",
      "INFO:tensorflow:loss = 0.0151987, step = 401 (0.104 sec)\n",
      "INFO:tensorflow:global_step/sec: 862.022\n",
      "INFO:tensorflow:loss = 0.00385201, step = 501 (0.116 sec)\n",
      "INFO:tensorflow:global_step/sec: 943.339\n",
      "INFO:tensorflow:loss = 0.000537964, step = 601 (0.107 sec)\n",
      "INFO:tensorflow:global_step/sec: 900.85\n",
      "INFO:tensorflow:loss = 0.000143314, step = 701 (0.109 sec)\n",
      "INFO:tensorflow:global_step/sec: 961.485\n",
      "INFO:tensorflow:loss = 5.64194e-05, step = 801 (0.104 sec)\n",
      "INFO:tensorflow:global_step/sec: 943.344\n",
      "INFO:tensorflow:loss = 1.31879e-05, step = 901 (0.106 sec)\n",
      "INFO:tensorflow:Saving checkpoints for 1000 into C:\\Users\\YECO\\AppData\\Local\\Temp\\tmpz0vomzwr\\model.ckpt.\n",
      "INFO:tensorflow:Loss for final step: 3.6636e-06.\n"
     ]
    },
    {
     "data": {
      "text/plain": [
       "<tensorflow.python.estimator.canned.linear.LinearRegressor at 0x699aa20>"
      ]
     },
     "execution_count": 13,
     "metadata": {},
     "output_type": "execute_result"
    }
   ],
   "source": [
    "estimator.train(input_fn=input_fn, steps = 1000)"
   ]
  },
  {
   "cell_type": "code",
   "execution_count": 14,
   "metadata": {
    "collapsed": false
   },
   "outputs": [
    {
     "name": "stdout",
     "output_type": "stream",
     "text": [
      "INFO:tensorflow:Starting evaluation at 2017-12-16-21:41:10\n",
      "INFO:tensorflow:Restoring parameters from C:\\Users\\YECO\\AppData\\Local\\Temp\\tmpz0vomzwr\\model.ckpt-1000\n",
      "INFO:tensorflow:Finished evaluation at 2017-12-16-21:41:11\n",
      "INFO:tensorflow:Saving dict for global step 1000: average_loss = 7.5293e-07, global_step = 1000, loss = 3.01172e-06\n",
      "INFO:tensorflow:Starting evaluation at 2017-12-16-21:41:12\n",
      "INFO:tensorflow:Restoring parameters from C:\\Users\\YECO\\AppData\\Local\\Temp\\tmpz0vomzwr\\model.ckpt-1000\n",
      "INFO:tensorflow:Finished evaluation at 2017-12-16-21:41:13\n",
      "INFO:tensorflow:Saving dict for global step 1000: average_loss = 0.00259831, global_step = 1000, loss = 0.0103932\n",
      "train metrics : {'average_loss': 7.529303e-07, 'loss': 3.0117212e-06, 'global_step': 1000}\n",
      "eval metrics : {'average_loss': 0.0025983071, 'loss': 0.010393228, 'global_step': 1000}\n"
     ]
    }
   ],
   "source": [
    "train_metrics = estimator.evaluate(input_fn=train_input_fn)\n",
    "eval_metrics = estimator.evaluate(input_fn=eval_input_fn)\n",
    "print(\"train metrics : %r\"%train_metrics)\n",
    "print(\"eval metrics : %r\"%eval_metrics)"
   ]
  },
  {
   "cell_type": "code",
   "execution_count": null,
   "metadata": {
    "collapsed": true
   },
   "outputs": [],
   "source": []
  }
 ],
 "metadata": {
  "kernelspec": {
   "display_name": "Python 3",
   "language": "python",
   "name": "python3"
  },
  "language_info": {
   "codemirror_mode": {
    "name": "ipython",
    "version": 3
   },
   "file_extension": ".py",
   "mimetype": "text/x-python",
   "name": "python",
   "nbconvert_exporter": "python",
   "pygments_lexer": "ipython3",
   "version": "3.6.0"
  }
 },
 "nbformat": 4,
 "nbformat_minor": 2
}
