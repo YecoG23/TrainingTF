{
 "cells": [
  {
   "cell_type": "code",
   "execution_count": 1,
   "metadata": {
    "collapsed": true
   },
   "outputs": [],
   "source": [
    "import numpy as np\n",
    "import tensorflow as tf"
   ]
  },
  {
   "cell_type": "code",
   "execution_count": 2,
   "metadata": {
    "collapsed": true
   },
   "outputs": [],
   "source": [
    "#Declare a list of features, we only have one real-valued feature\n",
    "def model_fn(features, labels, mode):\n",
    "    #Build a linear model a predict values\n",
    "    W = tf.get_variable(\"W\", [1], dtype=tf.float64)\n",
    "    b = tf.get_variable(\"b\", [1], dtype=tf.float64)\n",
    "    y = W*features['x'] + b\n",
    "    #Loss sub-graph\n",
    "    loss = tf.reduce_sum(tf.square(y-labels))\n",
    "    #training sub-graph\n",
    "    global_step = tf.train.get_global_step()\n",
    "    optimizer = tf.train.GradientDescentOptimizer(0.01)\n",
    "    train = tf.group(optimizer.minimize(loss), tf.assign_add(global_step,1))\n",
    "    #EstimatorSpec connects subgraphs we built to the\n",
    "    #appropriate functionality\n",
    "    return tf.estimator.EstimatorSpec(\n",
    "        mode=mode,\n",
    "        predictions=y,\n",
    "        loss=loss,\n",
    "        train_op=train,\n",
    "    )"
   ]
  },
  {
   "cell_type": "code",
   "execution_count": 3,
   "metadata": {
    "collapsed": false
   },
   "outputs": [
    {
     "name": "stdout",
     "output_type": "stream",
     "text": [
      "INFO:tensorflow:Using default config.\n",
      "WARNING:tensorflow:Using temporary folder as model directory: C:\\Users\\YECO\\AppData\\Local\\Temp\\tmpo604tgu1\n",
      "INFO:tensorflow:Using config: {'_model_dir': 'C:\\\\Users\\\\YECO\\\\AppData\\\\Local\\\\Temp\\\\tmpo604tgu1', '_tf_random_seed': None, '_save_summary_steps': 100, '_save_checkpoints_steps': None, '_save_checkpoints_secs': 600, '_session_config': None, '_keep_checkpoint_max': 5, '_keep_checkpoint_every_n_hours': 10000, '_log_step_count_steps': 100, '_service': None, '_cluster_spec': <tensorflow.python.training.server_lib.ClusterSpec object at 0x0000000015336EB8>, '_task_type': 'worker', '_task_id': 0, '_master': '', '_is_chief': True, '_num_ps_replicas': 0, '_num_worker_replicas': 1}\n"
     ]
    }
   ],
   "source": [
    "estimator = tf.estimator.Estimator(model_fn=model_fn)\n",
    "#define out data sets\n",
    "x_train = np.array([1., 2., 3., 4.])\n",
    "y_train = np.array([0., -1., -2., -3.])\n",
    "x_eval = np.array([2., 5., 8., 1.])\n",
    "y_eval = np.array([-1.01, -4.1, -7., 0.])\n",
    "input_fn = tf.estimator.inputs.numpy_input_fn(\n",
    "    {\"x\": x_train}, y_train, batch_size=4, num_epochs=None, shuffle=True)\n",
    "train_input_fn = tf.estimator.inputs.numpy_input_fn(\n",
    "    {\"x\": x_train}, y_train, batch_size=4, num_epochs=1000, shuffle=False)\n",
    "eval_input_fn = tf.estimator.inputs.numpy_input_fn(\n",
    "    {\"x\": x_eval}, y_eval, batch_size=4, num_epochs=1000, shuffle=False)"
   ]
  },
  {
   "cell_type": "code",
   "execution_count": 4,
   "metadata": {
    "collapsed": false
   },
   "outputs": [
    {
     "name": "stdout",
     "output_type": "stream",
     "text": [
      "INFO:tensorflow:Create CheckpointSaverHook.\n",
      "INFO:tensorflow:Saving checkpoints for 1 into C:\\Users\\YECO\\AppData\\Local\\Temp\\tmpo604tgu1\\model.ckpt.\n",
      "INFO:tensorflow:loss = 0.265710762121, step = 1\n",
      "INFO:tensorflow:global_step/sec: 746.224\n",
      "INFO:tensorflow:loss = 0.0072913434149, step = 101 (0.152 sec)\n",
      "INFO:tensorflow:global_step/sec: 917.381\n",
      "INFO:tensorflow:loss = 0.00048217691987, step = 201 (0.093 sec)\n",
      "INFO:tensorflow:global_step/sec: 1149.35\n",
      "INFO:tensorflow:loss = 4.31564416948e-05, step = 301 (0.086 sec)\n",
      "INFO:tensorflow:global_step/sec: 1123.53\n",
      "INFO:tensorflow:loss = 2.3976854845e-06, step = 401 (0.089 sec)\n",
      "INFO:tensorflow:global_step/sec: 1030.87\n",
      "INFO:tensorflow:loss = 4.72547481871e-08, step = 501 (0.097 sec)\n",
      "INFO:tensorflow:global_step/sec: 1190.41\n",
      "INFO:tensorflow:loss = 2.96090628834e-08, step = 601 (0.084 sec)\n",
      "INFO:tensorflow:global_step/sec: 1136.3\n",
      "INFO:tensorflow:loss = 8.88659867639e-10, step = 701 (0.088 sec)\n",
      "INFO:tensorflow:global_step/sec: 1063.77\n",
      "INFO:tensorflow:loss = 4.49358112432e-10, step = 801 (0.095 sec)\n",
      "INFO:tensorflow:global_step/sec: 699.262\n",
      "INFO:tensorflow:loss = 3.89904869906e-11, step = 901 (0.145 sec)\n",
      "INFO:tensorflow:Saving checkpoints for 1000 into C:\\Users\\YECO\\AppData\\Local\\Temp\\tmpo604tgu1\\model.ckpt.\n",
      "INFO:tensorflow:Loss for final step: 2.25131586971e-12.\n",
      "INFO:tensorflow:Starting evaluation at 2017-12-17-19:19:19\n",
      "INFO:tensorflow:Restoring parameters from C:\\Users\\YECO\\AppData\\Local\\Temp\\tmpo604tgu1\\model.ckpt-1000\n",
      "INFO:tensorflow:Finished evaluation at 2017-12-17-19:19:20\n",
      "INFO:tensorflow:Saving dict for global step 1000: global_step = 1000, loss = 1.95389e-12\n",
      "INFO:tensorflow:Starting evaluation at 2017-12-17-19:19:20\n",
      "INFO:tensorflow:Restoring parameters from C:\\Users\\YECO\\AppData\\Local\\Temp\\tmpo604tgu1\\model.ckpt-1000\n",
      "INFO:tensorflow:Finished evaluation at 2017-12-17-19:19:21\n",
      "INFO:tensorflow:Saving dict for global step 1000: global_step = 1000, loss = 0.0100997\n",
      "train metrics: {'loss': 1.9538917e-12, 'global_step': 1000}\n",
      "eval metrics: {'loss': 0.010099716, 'global_step': 1000}\n"
     ]
    }
   ],
   "source": [
    "#train\n",
    "estimator.train(input_fn=input_fn, steps=1000)\n",
    "#Here we evaluate how well our model did\n",
    "train_metrics = estimator.evaluate(input_fn=train_input_fn)\n",
    "eval_metrics = estimator.evaluate(input_fn=eval_input_fn)\n",
    "print(\"train metrics: %r\"% train_metrics)\n",
    "print(\"eval metrics: %r\"% eval_metrics)"
   ]
  }
 ],
 "metadata": {
  "kernelspec": {
   "display_name": "Python 3",
   "language": "python",
   "name": "python3"
  },
  "language_info": {
   "codemirror_mode": {
    "name": "ipython",
    "version": 3
   },
   "file_extension": ".py",
   "mimetype": "text/x-python",
   "name": "python",
   "nbconvert_exporter": "python",
   "pygments_lexer": "ipython3",
   "version": "3.6.0"
  }
 },
 "nbformat": 4,
 "nbformat_minor": 2
}
